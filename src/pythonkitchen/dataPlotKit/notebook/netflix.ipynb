{
 "cells": [
  {
   "cell_type": "code",
   "execution_count": 2,
   "id": "15b47cb0-aa43-4561-9894-8731593ba8f4",
   "metadata": {},
   "outputs": [],
   "source": [
    "import os\n",
    "from pythonkitchen.dataPlotKit import Netflix"
   ]
  },
  {
   "cell_type": "code",
   "execution_count": 4,
   "id": "48f4ac0d-bb8b-4835-94bf-5f3b818248e2",
   "metadata": {},
   "outputs": [],
   "source": [
    "project_root = os.environ.get('PROJECT_ROOT')\n",
    "netflix_dataset = f'{project_root}/data/netflix_titles.csv'\n",
    "tmdb_dataset = f'{project_root}/data/imdb_movies.csv'\n",
    "tmdb_top_1000 = f'{project_root}/data/TMDb_top_1000.CSV'\n",
    "n = Netflix(netflix_dataset, tmdb_dataset, tmdb_top_1000, 90, False)"
   ]
  },
  {
   "cell_type": "code",
   "execution_count": 3,
   "id": "f0b857e9-1bc9-4ef8-a464-0f39f69b3ddb",
   "metadata": {},
   "outputs": [],
   "source": [
    "#n.generate_line_plots()"
   ]
  },
  {
   "cell_type": "code",
   "execution_count": null,
   "id": "36373ddb-fc03-4d60-9186-9a6d56d81078",
   "metadata": {},
   "outputs": [],
   "source": []
  },
  {
   "cell_type": "code",
   "execution_count": null,
   "id": "e216853c-cb2d-4ac5-8bd1-189ee1caa634",
   "metadata": {},
   "outputs": [],
   "source": []
  }
 ],
 "metadata": {
  "kernelspec": {
   "display_name": "Python 3 (ipykernel)",
   "language": "python",
   "name": "python3"
  },
  "language_info": {
   "codemirror_mode": {
    "name": "ipython",
    "version": 3
   },
   "file_extension": ".py",
   "mimetype": "text/x-python",
   "name": "python",
   "nbconvert_exporter": "python",
   "pygments_lexer": "ipython3",
   "version": "3.12.2"
  }
 },
 "nbformat": 4,
 "nbformat_minor": 5
}
