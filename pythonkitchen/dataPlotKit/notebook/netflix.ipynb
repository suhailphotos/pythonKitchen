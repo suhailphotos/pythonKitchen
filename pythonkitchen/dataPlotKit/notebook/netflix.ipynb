{
 "cells": [
  {
   "cell_type": "code",
   "execution_count": 1,
   "id": "15b47cb0-aa43-4561-9894-8731593ba8f4",
   "metadata": {},
   "outputs": [
    {
     "name": "stderr",
     "output_type": "stream",
     "text": [
      "/Users/suhail/Library/Caches/pypoetry/virtualenvs/pythonkitchen-J9xejzS_-py3.12/lib/python3.12/site-packages/fuzzywuzzy/fuzz.py:11: UserWarning: Using slow pure-python SequenceMatcher. Install python-Levenshtein to remove this warning\n",
      "  warnings.warn('Using slow pure-python SequenceMatcher. Install python-Levenshtein to remove this warning')\n"
     ]
    }
   ],
   "source": [
    "import pythonkitchen.dataPlotKit as dpk"
   ]
  },
  {
   "cell_type": "code",
   "execution_count": 3,
   "id": "c6871242-13f0-4b59-b1bb-6e2da90f6d6c",
   "metadata": {},
   "outputs": [],
   "source": [
    "n = dpk.Netflix('../../../data/netflix_titles.csv', '../../../data/TMDb_updated.CSV')"
   ]
  },
  {
   "cell_type": "code",
   "execution_count": 4,
   "id": "3fa84dfb-e6bd-408d-8a87-53033c8f237c",
   "metadata": {},
   "outputs": [
    {
     "ename": "NameError",
     "evalue": "name 'process' is not defined",
     "output_type": "error",
     "traceback": [
      "\u001b[0;31m---------------------------------------------------------------------------\u001b[0m",
      "\u001b[0;31mNameError\u001b[0m                                 Traceback (most recent call last)",
      "Cell \u001b[0;32mIn[4], line 1\u001b[0m\n\u001b[0;32m----> 1\u001b[0m mismatched_titles \u001b[38;5;241m=\u001b[39m \u001b[43mn\u001b[49m\u001b[38;5;241;43m.\u001b[39;49m\u001b[43mfind_potential_mismatches\u001b[49m\u001b[43m(\u001b[49m\u001b[43mthreshold\u001b[49m\u001b[38;5;241;43m=\u001b[39;49m\u001b[38;5;241;43m90\u001b[39;49m\u001b[43m)\u001b[49m\n",
      "File \u001b[0;32m~/Documents/matrix/packages/pythonKitchen/pythonkitchen/dataPlotKit/netflix.py:12\u001b[0m, in \u001b[0;36mNetflix.find_potential_mismatches\u001b[0;34m(self, threshold)\u001b[0m\n\u001b[1;32m     10\u001b[0m mismatched_titles \u001b[38;5;241m=\u001b[39m []\n\u001b[1;32m     11\u001b[0m \u001b[38;5;28;01mfor\u001b[39;00m title1 \u001b[38;5;129;01min\u001b[39;00m \u001b[38;5;28mself\u001b[39m\u001b[38;5;241m.\u001b[39mcombined_data[\u001b[38;5;124m'\u001b[39m\u001b[38;5;124mtitle\u001b[39m\u001b[38;5;124m'\u001b[39m]:\n\u001b[0;32m---> 12\u001b[0m     matches \u001b[38;5;241m=\u001b[39m \u001b[43mprocess\u001b[49m\u001b[38;5;241m.\u001b[39mextract(title1, \u001b[38;5;28mself\u001b[39m\u001b[38;5;241m.\u001b[39mcombined_data[\u001b[38;5;124m'\u001b[39m\u001b[38;5;124mtitle\u001b[39m\u001b[38;5;124m'\u001b[39m], scorer\u001b[38;5;241m=\u001b[39mfuzz\u001b[38;5;241m.\u001b[39mpartial_ratio)\n\u001b[1;32m     13\u001b[0m     \u001b[38;5;28;01mfor\u001b[39;00m title2, score \u001b[38;5;129;01min\u001b[39;00m matches:\n\u001b[1;32m     14\u001b[0m         \u001b[38;5;28;01mif\u001b[39;00m title1 \u001b[38;5;241m!=\u001b[39m title2 \u001b[38;5;129;01mand\u001b[39;00m score \u001b[38;5;241m<\u001b[39m threshold:\n",
      "\u001b[0;31mNameError\u001b[0m: name 'process' is not defined"
     ]
    }
   ],
   "source": [
    "mismatched_titles = n.find_potential_mismatches(threshold=90)"
   ]
  },
  {
   "cell_type": "code",
   "execution_count": null,
   "id": "48f4ac0d-bb8b-4835-94bf-5f3b818248e2",
   "metadata": {},
   "outputs": [],
   "source": []
  }
 ],
 "metadata": {
  "kernelspec": {
   "display_name": "Python 3 (ipykernel)",
   "language": "python",
   "name": "python3"
  },
  "language_info": {
   "codemirror_mode": {
    "name": "ipython",
    "version": 3
   },
   "file_extension": ".py",
   "mimetype": "text/x-python",
   "name": "python",
   "nbconvert_exporter": "python",
   "pygments_lexer": "ipython3",
   "version": "3.12.2"
  }
 },
 "nbformat": 4,
 "nbformat_minor": 5
}
