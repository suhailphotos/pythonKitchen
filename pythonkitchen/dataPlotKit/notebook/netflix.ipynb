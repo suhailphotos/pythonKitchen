{
 "cells": [
  {
   "cell_type": "code",
   "execution_count": 3,
   "id": "15b47cb0-aa43-4561-9894-8731593ba8f4",
   "metadata": {},
   "outputs": [],
   "source": [
    "import os\n",
    "from pythonkitchen.dataPlotKit import Netflix"
   ]
  },
  {
   "cell_type": "code",
   "execution_count": 15,
   "id": "48f4ac0d-bb8b-4835-94bf-5f3b818248e2",
   "metadata": {},
   "outputs": [
    {
     "name": "stderr",
     "output_type": "stream",
     "text": [
      "100%|███████████████████████████████████████████████████████████████████████████████████████████████████████████████| 7106/7106 [02:14<00:00, 52.69it/s]\n"
     ]
    }
   ],
   "source": [
    "project_root = os.environ.get('PROJECT_ROOT')\n",
    "netflix_path = f'{project_root}/data/netflix_titles.csv'\n",
    "tmdb_path = f'{project_root}/data/TMDb_updated.CSV'\n",
    "cache_path = f'{project_root}/data/netflix_cache.pkl'\n",
    "n = Netflix(netflix_path, tmdb_path, 90, False, cache_path)"
   ]
  },
  {
   "cell_type": "code",
   "execution_count": 16,
   "id": "f0b857e9-1bc9-4ef8-a464-0f39f69b3ddb",
   "metadata": {},
   "outputs": [
    {
     "data": {
      "text/plain": [
       "'/Users/suhail/Documents/matrix/packages/pythonKitchen/data/netflix_cache.pkl'"
      ]
     },
     "execution_count": 16,
     "metadata": {},
     "output_type": "execute_result"
    }
   ],
   "source": [
    "cache_path"
   ]
  },
  {
   "cell_type": "code",
   "execution_count": null,
   "id": "36373ddb-fc03-4d60-9186-9a6d56d81078",
   "metadata": {},
   "outputs": [],
   "source": []
  }
 ],
 "metadata": {
  "kernelspec": {
   "display_name": "Python 3 (ipykernel)",
   "language": "python",
   "name": "python3"
  },
  "language_info": {
   "codemirror_mode": {
    "name": "ipython",
    "version": 3
   },
   "file_extension": ".py",
   "mimetype": "text/x-python",
   "name": "python",
   "nbconvert_exporter": "python",
   "pygments_lexer": "ipython3",
   "version": "3.12.2"
  }
 },
 "nbformat": 4,
 "nbformat_minor": 5
}
