{
 "cells": [
  {
   "cell_type": "code",
   "execution_count": 7,
   "id": "7ea60b1c-163a-4260-b01b-a0c03edd45ea",
   "metadata": {},
   "outputs": [],
   "source": [
    "from pythonkitchen.dataPlotKit import Netflix"
   ]
  },
  {
   "cell_type": "code",
   "execution_count": null,
   "id": "328b2305-c603-441d-a94d-ee0f4f1de89f",
   "metadata": {},
   "outputs": [],
   "source": []
  }
 ],
 "metadata": {
  "kernelspec": {
   "display_name": "Python 3 (ipykernel)",
   "language": "python",
   "name": "python3"
  },
  "language_info": {
   "codemirror_mode": {
    "name": "ipython",
    "version": 3
   },
   "file_extension": ".py",
   "mimetype": "text/x-python",
   "name": "python",
   "nbconvert_exporter": "python",
   "pygments_lexer": "ipython3",
   "version": "3.12.2"
  }
 },
 "nbformat": 4,
 "nbformat_minor": 5
}
